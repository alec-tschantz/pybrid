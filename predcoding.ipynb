{
  "nbformat": 4,
  "nbformat_minor": 0,
  "metadata": {
    "colab": {
      "name": "predcoding.ipynb",
      "provenance": [],
      "collapsed_sections": []
    },
    "kernelspec": {
      "name": "python3",
      "display_name": "Python 3.9.2 64-bit ('pybrid': conda)",
      "metadata": {
        "interpreter": {
          "hash": "82ca0910b36e2fe5a005ae0b5da79a0767095f44faeef9b478a9f3cc93cefa3a"
        }
      }
    },
    "language_info": {
      "name": "python",
      "version": "3.9.2-final"
    },
    "accelerator": "GPU"
  },
  "cells": [
    {
      "cell_type": "code",
      "metadata": {
        "colab": {
          "base_uri": "https://localhost:8080/"
        },
        "id": "Ho-Uzn-ZfKJn",
        "outputId": "8f2e172b-f18d-46d0-b61a-1584582396e6"
      },
      "source": [
        "# !pip install git+https://github.com/alec-tschantz/pybrid.git"
      ],
      "execution_count": null,
      "outputs": [
        {
          "output_type": "stream",
          "text": [
            "Collecting git+https://github.com/alec-tschantz/pybrid.git\n",
            "  Cloning https://github.com/alec-tschantz/pybrid.git to /tmp/pip-req-build-z8cfr7ld\n",
            "  Running command git clone -q https://github.com/alec-tschantz/pybrid.git /tmp/pip-req-build-z8cfr7ld\n",
            "Requirement already satisfied (use --upgrade to upgrade): pybrid==0.0.1 from git+https://github.com/alec-tschantz/pybrid.git in /usr/local/lib/python3.7/dist-packages\n",
            "Building wheels for collected packages: pybrid\n",
            "  Building wheel for pybrid (setup.py) ... \u001b[?25l\u001b[?25hdone\n",
            "  Created wheel for pybrid: filename=pybrid-0.0.1-cp37-none-any.whl size=8649 sha256=870accab5eb5649f71159a3495226ae2dfb04e694732ae5a228cf50cf04a81ab\n",
            "  Stored in directory: /tmp/pip-ephem-wheel-cache-ecl6esgw/wheels/7f/d2/e5/568382df15abbc70ecfd60b1864b418d0f1e39769d670f503b\n",
            "Successfully built pybrid\n"
          ],
          "name": "stdout"
        }
      ]
    },
    {
      "cell_type": "code",
      "metadata": {
        "id": "U2XgNTz5hTkn"
      },
      "source": [
        "import logging\n",
        "import torch\n",
        "from pybrid.scripts import main\n",
        "from pybrid.config import cfg"
      ],
      "execution_count": 1,
      "outputs": []
    },
    {
      "cell_type": "code",
      "metadata": {
        "colab": {
          "base_uri": "https://localhost:8080/"
        },
        "id": "gTwqMpFPiEj5",
        "outputId": "fc806205-e5ab-4912-ec7c-66cd3008103a",
        "tags": []
      },
      "source": [
        "cfg.log_dir = \"results/predcoding\"\n",
        "cfg.model.train_amortised = False \n",
        "print(cfg.log_dir)\n",
        "seeds = [0, 1, 2]\n",
        "for seed in seeds:\n",
        "    cfg.seed = seed\n",
        "    main(cfg)"
      ],
      "execution_count": 2,
      "outputs": [
        {
          "output_type": "stream",
          "name": "stderr",
          "text": [
            "2021-03-22 15:31:33,876 [INFO] Starting experiment @ results/test/0 [cpu]\n",
            "{'data': {'label_scale': 0.94,\n",
            "          'normalize': True,\n",
            "          'test_size': 100,\n",
            "          'train_size': 1000},\n",
            " 'exp': {'img_dir': 'results/test/0/imgs',\n",
            "         'log_dir': 'results/test/0',\n",
            "         'num_epochs': 20,\n",
            "         'seed': 0,\n",
            "         'test_every': 1},\n",
            " 'infer': {'fixed_preds_test': False,\n",
            "           'fixed_preds_train': False,\n",
            "           'init_std': 0.01,\n",
            "           'mu_dt': 0.01,\n",
            "           'num_test_iters': 1000,\n",
            "           'num_train_iters': 100,\n",
            "           'test_thresh': None,\n",
            "           'train_thresh': None},\n",
            " 'log_dir': 'results/predcoding',\n",
            " 'model': {'act_fn': 'tanh',\n",
            "           'amort_nodes': [784, 500, 500, 10],\n",
            "           'kaiming_init': False,\n",
            "           'nodes': [10, 500, 500, 784],\n",
            "           'train_amortised': False,\n",
            "           'use_bias': True},\n",
            " 'optim': {'amort_lr': 0.0001,\n",
            "           'batch_scale': True,\n",
            "           'batch_size': 64,\n",
            "           'grad_clip': 5,\n",
            "           'lr': 0.0001,\n",
            "           'name': 'Adam',\n",
            "           'normalize_weights': True,\n",
            "           'weight_decay': None},\n",
            " 'seed': 0}\n",
            "2021-03-22 15:31:34,106 [INFO] loaded MNIST (15 train batches 1 test batches)\n",
            "2021-03-22 15:31:34,139 [INFO] loaded model <HybridModel> [10, 500, 500, 784]\n",
            "2021-03-22 15:31:34,140 [INFO] epoch 1/21\n",
            "2021-03-22 15:31:34,141 [INFO] Train @ epoch 1 (15 batches)\n",
            "2021-03-22 15:31:34,654 [INFO] [0/15] losses: pc 2468.9487 amort 0.0000 (99.0 iters)\n",
            "2021-03-22 15:31:40,087 [INFO] test @ epoch 1 (1 batches)\n",
            "{'amort_acc': 0.0,\n",
            " 'amort_err': 0.0,\n",
            " 'hybrid_acc': 0.0,\n",
            " 'num_test_iters': 0.0,\n",
            " 'num_test_iters_pc': 999.0,\n",
            " 'num_train_iters': 99.0,\n",
            " 'pc_acc': 0.171875,\n",
            " 'pc_err': 2372.8314615885415}\n",
            "2021-03-22 15:31:44,364 [INFO] epoch 2/21\n",
            "2021-03-22 15:31:44,364 [INFO] Train @ epoch 2 (15 batches)\n",
            "2021-03-22 15:31:44,751 [INFO] [0/15] losses: pc 1724.3572 amort 0.0000 (99.0 iters)\n",
            "2021-03-22 15:31:50,732 [INFO] test @ epoch 2 (1 batches)\n",
            "{'amort_acc': 0.0,\n",
            " 'amort_err': 0.0,\n",
            " 'hybrid_acc': 0.0,\n",
            " 'num_test_iters': 0.0,\n",
            " 'num_test_iters_pc': 999.0,\n",
            " 'num_train_iters': 99.0,\n",
            " 'pc_acc': 0.359375,\n",
            " 'pc_err': 1600.5658203125}\n",
            "2021-03-22 15:31:55,416 [INFO] epoch 3/21\n",
            "2021-03-22 15:31:55,417 [INFO] Train @ epoch 3 (15 batches)\n",
            "2021-03-22 15:31:55,845 [INFO] [0/15] losses: pc 1257.8905 amort 0.0000 (99.0 iters)\n",
            "2021-03-22 15:32:01,806 [INFO] test @ epoch 3 (1 batches)\n"
          ]
        },
        {
          "output_type": "error",
          "ename": "KeyboardInterrupt",
          "evalue": "",
          "traceback": [
            "\u001b[0;31m---------------------------------------------------------------------------\u001b[0m",
            "\u001b[0;31mKeyboardInterrupt\u001b[0m                         Traceback (most recent call last)",
            "\u001b[0;32m<ipython-input-2-2ad558cf65d9>\u001b[0m in \u001b[0;36m<module>\u001b[0;34m\u001b[0m\n\u001b[1;32m      5\u001b[0m \u001b[0;32mfor\u001b[0m \u001b[0mseed\u001b[0m \u001b[0;32min\u001b[0m \u001b[0mseeds\u001b[0m\u001b[0;34m:\u001b[0m\u001b[0;34m\u001b[0m\u001b[0;34m\u001b[0m\u001b[0m\n\u001b[1;32m      6\u001b[0m     \u001b[0mcfg\u001b[0m\u001b[0;34m.\u001b[0m\u001b[0mseed\u001b[0m \u001b[0;34m=\u001b[0m \u001b[0mseed\u001b[0m\u001b[0;34m\u001b[0m\u001b[0;34m\u001b[0m\u001b[0m\n\u001b[0;32m----> 7\u001b[0;31m     \u001b[0mmain\u001b[0m\u001b[0;34m(\u001b[0m\u001b[0mcfg\u001b[0m\u001b[0;34m)\u001b[0m\u001b[0;34m\u001b[0m\u001b[0;34m\u001b[0m\u001b[0m\n\u001b[0m",
            "\u001b[0;32m~/Dropbox/repos/pybrid/pybrid/scripts.py\u001b[0m in \u001b[0;36mmain\u001b[0;34m(cfg)\u001b[0m\n\u001b[1;32m    112\u001b[0m                         \u001b[0mnum_test_iters\u001b[0m\u001b[0;34m.\u001b[0m\u001b[0mappend\u001b[0m\u001b[0;34m(\u001b[0m\u001b[0mnum_test_iter\u001b[0m\u001b[0;34m)\u001b[0m\u001b[0;34m\u001b[0m\u001b[0;34m\u001b[0m\u001b[0m\n\u001b[1;32m    113\u001b[0m \u001b[0;34m\u001b[0m\u001b[0m\n\u001b[0;32m--> 114\u001b[0;31m                     label_preds, num_test_iter_pc = model.test_batch(\n\u001b[0m\u001b[1;32m    115\u001b[0m                         \u001b[0mimg_batch\u001b[0m\u001b[0;34m,\u001b[0m\u001b[0;34m\u001b[0m\u001b[0;34m\u001b[0m\u001b[0m\n\u001b[1;32m    116\u001b[0m                         \u001b[0mcfg\u001b[0m\u001b[0;34m.\u001b[0m\u001b[0minfer\u001b[0m\u001b[0;34m.\u001b[0m\u001b[0mnum_test_iters\u001b[0m\u001b[0;34m,\u001b[0m\u001b[0;34m\u001b[0m\u001b[0;34m\u001b[0m\u001b[0m\n",
            "\u001b[0;32m~/Dropbox/repos/pybrid/pybrid/models/hybrid.py\u001b[0m in \u001b[0;36mtest_batch\u001b[0;34m(self, img_batch, num_iters, init_std, fixed_preds, use_amort)\u001b[0m\n\u001b[1;32m    129\u001b[0m \u001b[0;34m\u001b[0m\u001b[0m\n\u001b[1;32m    130\u001b[0m         \u001b[0mself\u001b[0m\u001b[0;34m.\u001b[0m\u001b[0mset_img_batch\u001b[0m\u001b[0;34m(\u001b[0m\u001b[0mimg_batch\u001b[0m\u001b[0;34m)\u001b[0m\u001b[0;34m\u001b[0m\u001b[0;34m\u001b[0m\u001b[0m\n\u001b[0;32m--> 131\u001b[0;31m         \u001b[0mnum_iter\u001b[0m \u001b[0;34m=\u001b[0m \u001b[0mself\u001b[0m\u001b[0;34m.\u001b[0m\u001b[0mtest_updates\u001b[0m\u001b[0;34m(\u001b[0m\u001b[0mnum_iters\u001b[0m\u001b[0;34m,\u001b[0m \u001b[0mfixed_preds\u001b[0m\u001b[0;34m=\u001b[0m\u001b[0mfixed_preds\u001b[0m\u001b[0;34m)\u001b[0m\u001b[0;34m\u001b[0m\u001b[0;34m\u001b[0m\u001b[0m\n\u001b[0m\u001b[1;32m    132\u001b[0m         \u001b[0;32mreturn\u001b[0m \u001b[0mself\u001b[0m\u001b[0;34m.\u001b[0m\u001b[0mmus\u001b[0m\u001b[0;34m[\u001b[0m\u001b[0;36m0\u001b[0m\u001b[0;34m]\u001b[0m\u001b[0;34m,\u001b[0m \u001b[0mnum_iter\u001b[0m\u001b[0;34m\u001b[0m\u001b[0;34m\u001b[0m\u001b[0m\n\u001b[1;32m    133\u001b[0m \u001b[0;34m\u001b[0m\u001b[0m\n",
            "\u001b[0;32m~/Dropbox/repos/pybrid/pybrid/models/hybrid.py\u001b[0m in \u001b[0;36mtest_updates\u001b[0;34m(self, num_iters, fixed_preds)\u001b[0m\n\u001b[1;32m    165\u001b[0m             \u001b[0mself\u001b[0m\u001b[0;34m.\u001b[0m\u001b[0mmus\u001b[0m\u001b[0;34m[\u001b[0m\u001b[0;36m0\u001b[0m\u001b[0;34m]\u001b[0m \u001b[0;34m=\u001b[0m \u001b[0mself\u001b[0m\u001b[0;34m.\u001b[0m\u001b[0mmus\u001b[0m\u001b[0;34m[\u001b[0m\u001b[0;36m0\u001b[0m\u001b[0;34m]\u001b[0m \u001b[0;34m+\u001b[0m \u001b[0mself\u001b[0m\u001b[0;34m.\u001b[0m\u001b[0mmu_dt\u001b[0m \u001b[0;34m*\u001b[0m \u001b[0;34m(\u001b[0m\u001b[0;36m2\u001b[0m \u001b[0;34m*\u001b[0m \u001b[0mdelta\u001b[0m\u001b[0;34m)\u001b[0m\u001b[0;34m\u001b[0m\u001b[0;34m\u001b[0m\u001b[0m\n\u001b[1;32m    166\u001b[0m             \u001b[0;32mfor\u001b[0m \u001b[0ml\u001b[0m \u001b[0;32min\u001b[0m \u001b[0mrange\u001b[0m\u001b[0;34m(\u001b[0m\u001b[0;36m1\u001b[0m\u001b[0;34m,\u001b[0m \u001b[0mself\u001b[0m\u001b[0;34m.\u001b[0m\u001b[0mnum_layers\u001b[0m\u001b[0;34m)\u001b[0m\u001b[0;34m:\u001b[0m\u001b[0;34m\u001b[0m\u001b[0;34m\u001b[0m\u001b[0m\n\u001b[0;32m--> 167\u001b[0;31m                 \u001b[0mdelta\u001b[0m \u001b[0;34m=\u001b[0m \u001b[0mself\u001b[0m\u001b[0;34m.\u001b[0m\u001b[0mlayers\u001b[0m\u001b[0;34m[\u001b[0m\u001b[0ml\u001b[0m\u001b[0;34m]\u001b[0m\u001b[0;34m.\u001b[0m\u001b[0mbackward\u001b[0m\u001b[0;34m(\u001b[0m\u001b[0mself\u001b[0m\u001b[0;34m.\u001b[0m\u001b[0merrs\u001b[0m\u001b[0;34m[\u001b[0m\u001b[0ml\u001b[0m \u001b[0;34m+\u001b[0m \u001b[0;36m1\u001b[0m\u001b[0;34m]\u001b[0m\u001b[0;34m)\u001b[0m \u001b[0;34m-\u001b[0m \u001b[0mself\u001b[0m\u001b[0;34m.\u001b[0m\u001b[0merrs\u001b[0m\u001b[0;34m[\u001b[0m\u001b[0ml\u001b[0m\u001b[0;34m]\u001b[0m\u001b[0;34m\u001b[0m\u001b[0;34m\u001b[0m\u001b[0m\n\u001b[0m\u001b[1;32m    168\u001b[0m                 \u001b[0mself\u001b[0m\u001b[0;34m.\u001b[0m\u001b[0mmus\u001b[0m\u001b[0;34m[\u001b[0m\u001b[0ml\u001b[0m\u001b[0;34m]\u001b[0m \u001b[0;34m=\u001b[0m \u001b[0mself\u001b[0m\u001b[0;34m.\u001b[0m\u001b[0mmus\u001b[0m\u001b[0;34m[\u001b[0m\u001b[0ml\u001b[0m\u001b[0;34m]\u001b[0m \u001b[0;34m+\u001b[0m \u001b[0mself\u001b[0m\u001b[0;34m.\u001b[0m\u001b[0mmu_dt\u001b[0m \u001b[0;34m*\u001b[0m \u001b[0;34m(\u001b[0m\u001b[0;36m2\u001b[0m \u001b[0;34m*\u001b[0m \u001b[0mdelta\u001b[0m\u001b[0;34m)\u001b[0m\u001b[0;34m\u001b[0m\u001b[0;34m\u001b[0m\u001b[0m\n\u001b[1;32m    169\u001b[0m \u001b[0;34m\u001b[0m\u001b[0m\n",
            "\u001b[0;32m~/Dropbox/repos/pybrid/pybrid/layers.py\u001b[0m in \u001b[0;36mbackward\u001b[0;34m(self, err)\u001b[0m\n\u001b[1;32m     75\u001b[0m \u001b[0;34m\u001b[0m\u001b[0m\n\u001b[1;32m     76\u001b[0m     \u001b[0;32mdef\u001b[0m \u001b[0mbackward\u001b[0m\u001b[0;34m(\u001b[0m\u001b[0mself\u001b[0m\u001b[0;34m,\u001b[0m \u001b[0merr\u001b[0m\u001b[0;34m)\u001b[0m\u001b[0;34m:\u001b[0m\u001b[0;34m\u001b[0m\u001b[0;34m\u001b[0m\u001b[0m\n\u001b[0;32m---> 77\u001b[0;31m         \u001b[0mfn_deriv\u001b[0m \u001b[0;34m=\u001b[0m \u001b[0mself\u001b[0m\u001b[0;34m.\u001b[0m\u001b[0mact_fn\u001b[0m\u001b[0;34m.\u001b[0m\u001b[0mderiv\u001b[0m\u001b[0;34m(\u001b[0m\u001b[0mtorch\u001b[0m\u001b[0;34m.\u001b[0m\u001b[0mmatmul\u001b[0m\u001b[0;34m(\u001b[0m\u001b[0mself\u001b[0m\u001b[0;34m.\u001b[0m\u001b[0minp\u001b[0m\u001b[0;34m,\u001b[0m \u001b[0mself\u001b[0m\u001b[0;34m.\u001b[0m\u001b[0mweights\u001b[0m\u001b[0;34m)\u001b[0m\u001b[0;34m)\u001b[0m\u001b[0;34m\u001b[0m\u001b[0;34m\u001b[0m\u001b[0m\n\u001b[0m\u001b[1;32m     78\u001b[0m         \u001b[0mout\u001b[0m \u001b[0;34m=\u001b[0m \u001b[0mtorch\u001b[0m\u001b[0;34m.\u001b[0m\u001b[0mmatmul\u001b[0m\u001b[0;34m(\u001b[0m\u001b[0merr\u001b[0m \u001b[0;34m*\u001b[0m \u001b[0mfn_deriv\u001b[0m\u001b[0;34m,\u001b[0m \u001b[0mself\u001b[0m\u001b[0;34m.\u001b[0m\u001b[0mweights\u001b[0m\u001b[0;34m.\u001b[0m\u001b[0mT\u001b[0m\u001b[0;34m)\u001b[0m\u001b[0;34m\u001b[0m\u001b[0;34m\u001b[0m\u001b[0m\n\u001b[1;32m     79\u001b[0m         \u001b[0;32mreturn\u001b[0m \u001b[0mout\u001b[0m\u001b[0;34m\u001b[0m\u001b[0;34m\u001b[0m\u001b[0m\n",
            "\u001b[0;31mKeyboardInterrupt\u001b[0m: "
          ]
        }
      ]
    },
    {
      "cell_type": "code",
      "execution_count": null,
      "metadata": {},
      "outputs": [],
      "source": []
    }
  ]
}