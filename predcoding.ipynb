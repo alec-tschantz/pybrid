{
  "nbformat": 4,
  "nbformat_minor": 0,
  "metadata": {
    "colab": {
      "name": "predcoding.ipynb",
      "provenance": [],
      "collapsed_sections": []
    },
    "kernelspec": {
      "name": "python3",
      "display_name": "Python 3.9.2 64-bit ('pybrid': conda)",
      "metadata": {
        "interpreter": {
          "hash": "82ca0910b36e2fe5a005ae0b5da79a0767095f44faeef9b478a9f3cc93cefa3a"
        }
      }
    },
    "language_info": {
      "name": "python",
      "version": "3.9.2-final"
    },
    "accelerator": "GPU"
  },
  "cells": [
    {
      "cell_type": "code",
      "metadata": {
        "colab": {
          "base_uri": "https://localhost:8080/"
        },
        "id": "Ho-Uzn-ZfKJn",
        "outputId": "8f2e172b-f18d-46d0-b61a-1584582396e6"
      },
      "source": [
        "# !pip install git+https://github.com/alec-tschantz/pybrid.git"
      ],
      "execution_count": null,
      "outputs": []
    },
    {
      "cell_type": "code",
      "metadata": {
        "id": "U2XgNTz5hTkn"
      },
      "source": [
        "import logging\n",
        "import torch\n",
        "from pybrid.scripts import main\n",
        "from pybrid.config import cfg"
      ],
      "execution_count": null,
      "outputs": []
    },
    {
      "cell_type": "code",
      "metadata": {
        "colab": {
          "base_uri": "https://localhost:8080/"
        },
        "id": "gTwqMpFPiEj5",
        "outputId": "fc806205-e5ab-4912-ec7c-66cd3008103a",
        "tags": []
      },
      "source": [
        "cfg.exp.log_dir = \"results/predcoding\"\n",
        "cfg.model.train_amortised = False \n",
        "\n",
        "seeds = [0, 1, 2]\n",
        "for seed in seeds:\n",
        "    cfg.exp.seed = seed\n",
        "    main(cfg)"
      ],
      "execution_count": null,
      "outputs": []
    },
    {
      "cell_type": "code",
      "execution_count": null,
      "metadata": {},
      "outputs": [],
      "source": []
    }
  ]
}